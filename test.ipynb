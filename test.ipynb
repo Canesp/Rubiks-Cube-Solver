{
 "cells": [
  {
   "cell_type": "code",
   "execution_count": 1,
   "metadata": {},
   "outputs": [
    {
     "data": {
      "text/plain": [
       "['r',\n",
       " 'g',\n",
       " 'b',\n",
       " 'y',\n",
       " 'w',\n",
       " 'o',\n",
       " 'r',\n",
       " 'g',\n",
       " 'b',\n",
       " 'y',\n",
       " 'w',\n",
       " 'o',\n",
       " 'r',\n",
       " 'g',\n",
       " 'b',\n",
       " 'y',\n",
       " 'w',\n",
       " 'o',\n",
       " 'r',\n",
       " 'g',\n",
       " 'b',\n",
       " 'y',\n",
       " 'w',\n",
       " 'o',\n",
       " 'r',\n",
       " 'g',\n",
       " 'b',\n",
       " 'y',\n",
       " 'w',\n",
       " 'o',\n",
       " 'r',\n",
       " 'g',\n",
       " 'b',\n",
       " 'y',\n",
       " 'w',\n",
       " 'o',\n",
       " 'r',\n",
       " 'g',\n",
       " 'b',\n",
       " 'y',\n",
       " 'w',\n",
       " 'o',\n",
       " 'r',\n",
       " 'g',\n",
       " 'b',\n",
       " 'y',\n",
       " 'w',\n",
       " 'o',\n",
       " 'r',\n",
       " 'g',\n",
       " 'b',\n",
       " 'y',\n",
       " 'w',\n",
       " 'o']"
      ]
     },
     "execution_count": 1,
     "metadata": {},
     "output_type": "execute_result"
    }
   ],
   "source": [
    "import numpy as np\n",
    "\n",
    "colors = [\"r\", \"g\", \"b\", \"y\", \"w\", \"o\"]\n",
    "color_list = []\n",
    "for _ in range(9):\n",
    "    for i in colors:\n",
    "        color_list.append(i)\n",
    "\n",
    "a = np.matrix([[1, 1, 1], [2, 2, 2], [3, 3, 3]])\n",
    "\n",
    "color_list\n",
    "\n"
   ]
  },
  {
   "cell_type": "code",
   "execution_count": 2,
   "metadata": {},
   "outputs": [
    {
     "data": {
      "text/plain": [
       "54"
      ]
     },
     "execution_count": 2,
     "metadata": {},
     "output_type": "execute_result"
    }
   ],
   "source": [
    "len(color_list)"
   ]
  },
  {
   "cell_type": "code",
   "execution_count": 3,
   "metadata": {},
   "outputs": [
    {
     "data": {
      "text/plain": [
       "array([[1, 4, 7],\n",
       "       [2, 5, 8],\n",
       "       [3, 6, 9]])"
      ]
     },
     "execution_count": 3,
     "metadata": {},
     "output_type": "execute_result"
    }
   ],
   "source": [
    "li = np.array([1, 2, 3, 4, 5, 6, 7, 8, 9])\n",
    "li = li.reshape(3, 3)\n",
    "\n",
    "li.T"
   ]
  },
  {
   "cell_type": "code",
   "execution_count": 4,
   "metadata": {},
   "outputs": [
    {
     "data": {
      "text/plain": [
       "array([['r', 'r', 'r'],\n",
       "       ['r', 'r', 'r'],\n",
       "       ['r', 'r', 'r']], dtype='<U1')"
      ]
     },
     "execution_count": 4,
     "metadata": {},
     "output_type": "execute_result"
    }
   ],
   "source": [
    "front = np.array([\"r\", \"r\", \"r\", \"r\", \"r\", \"r\", \"r\", \"r\", \"r\"]).reshape(3, 3)\n",
    "front"
   ]
  },
  {
   "cell_type": "code",
   "execution_count": 5,
   "metadata": {},
   "outputs": [
    {
     "data": {
      "text/plain": [
       "6"
      ]
     },
     "execution_count": 5,
     "metadata": {},
     "output_type": "execute_result"
    }
   ],
   "source": [
    "cube_dict = {\n",
    "\n",
    "    \"front\": np.array([\"r\", \"r\", \"r\", \"r\", \"r\", \"r\", \"r\", \"r\", \"r\"]).reshape(3, 3),\n",
    "    \"back\": np.array([\"r\", \"r\", \"r\", \"r\", \"r\", \"r\", \"r\", \"r\", \"r\"]).reshape(3, 3),\n",
    "    \"top\": np.array([\"r\", \"r\", \"r\", \"r\", \"r\", \"r\", \"r\", \"r\", \"r\"]).reshape(3, 3),\n",
    "    \"right\": np.array([\"r\", \"r\", \"r\", \"r\", \"r\", \"r\", \"r\", \"r\", \"r\"]).reshape(3, 3),\n",
    "    \"left\": np.array([\"r\", \"r\", \"r\", \"r\", \"r\", \"r\", \"r\", \"r\", \"r\"]).reshape(3, 3),\n",
    "    \"bottom\": np.array([\"r\", \"r\", \"r\", \"r\", \"r\", \"r\", \"r\", \"r\", \"r\"]).reshape(3, 3)\n",
    "\n",
    "}\n",
    "\n",
    "len(cube_dict)"
   ]
  },
  {
   "cell_type": "code",
   "execution_count": 6,
   "metadata": {},
   "outputs": [
    {
     "name": "stdout",
     "output_type": "stream",
     "text": [
      "3\n",
      "3\n",
      "3\n",
      "3\n",
      "3\n",
      "3\n"
     ]
    }
   ],
   "source": [
    "for i in cube_dict:\n",
    "    print(len(cube_dict[i]))"
   ]
  },
  {
   "cell_type": "code",
   "execution_count": 7,
   "metadata": {},
   "outputs": [
    {
     "name": "stdout",
     "output_type": "stream",
     "text": [
      "['r' 'r' 'r']\n",
      "['r' 'r' 'r']\n",
      "['r' 'r' 'r']\n",
      "['r' 'r' 'r']\n",
      "['r' 'r' 'r']\n",
      "['r' 'r' 'r']\n",
      "['r' 'r' 'r']\n",
      "['r' 'r' 'r']\n",
      "['r' 'r' 'r']\n",
      "['r' 'r' 'r']\n",
      "['r' 'r' 'r']\n",
      "['r' 'r' 'r']\n",
      "['r' 'r' 'r']\n",
      "['r' 'r' 'r']\n",
      "['r' 'r' 'r']\n",
      "['r' 'r' 'r']\n",
      "['r' 'r' 'r']\n",
      "['r' 'r' 'r']\n"
     ]
    }
   ],
   "source": [
    "for i in cube_dict:\n",
    "\n",
    "    for x in cube_dict[i]:\n",
    "        print(x)"
   ]
  },
  {
   "cell_type": "code",
   "execution_count": 8,
   "metadata": {},
   "outputs": [
    {
     "ename": "TypeError",
     "evalue": "test() got multiple values for argument 'a'",
     "output_type": "error",
     "traceback": [
      "\u001b[1;31m---------------------------------------------------------------------------\u001b[0m",
      "\u001b[1;31mTypeError\u001b[0m                                 Traceback (most recent call last)",
      "Cell \u001b[1;32mIn[8], line 7\u001b[0m\n\u001b[0;32m      3\u001b[0m     \u001b[39mprint\u001b[39m(a)\n\u001b[0;32m      4\u001b[0m     \u001b[39mprint\u001b[39m(b)\n\u001b[1;32m----> 7\u001b[0m test(\u001b[39m1\u001b[39;49m, a\u001b[39m=\u001b[39;49m(\u001b[39m1\u001b[39;49m, \u001b[39m2\u001b[39;49m))\n",
      "\u001b[1;31mTypeError\u001b[0m: test() got multiple values for argument 'a'"
     ]
    }
   ],
   "source": [
    "def test (a: tuple, b: int):\n",
    "\n",
    "    print(a)\n",
    "    print(b)\n",
    "\n",
    "\n",
    "test(1, a=(1, 2))"
   ]
  },
  {
   "cell_type": "code",
   "execution_count": null,
   "metadata": {},
   "outputs": [
    {
     "name": "stdout",
     "output_type": "stream",
     "text": [
      "[['r' 'r' 'r']\n",
      " ['r' 'r' 'r']\n",
      " ['r' 'r' 'r']]\n",
      "[['r' 'r' 'r']\n",
      " ['r' 'r' 'r']\n",
      " ['r' 'r' 'r']]\n",
      "[['r' 'r' 'r']\n",
      " ['r' 'r' 'r']\n",
      " ['r' 'r' 'r']]\n",
      "[['r' 'r' 'r']\n",
      " ['r' 'r' 'r']\n",
      " ['r' 'r' 'r']]\n",
      "[['r' 'r' 'r']\n",
      " ['r' 'r' 'r']\n",
      " ['r' 'r' 'r']]\n",
      "[['r' 'r' 'r']\n",
      " ['r' 'r' 'r']\n",
      " ['r' 'r' 'r']]\n"
     ]
    }
   ],
   "source": [
    "import numpy as np\n",
    "\n",
    "cube_dict = {\n",
    "\n",
    "    \"front\": np.array([\"r\", \"r\", \"r\", \"r\", \"r\", \"r\", \"r\", \"r\", \"r\"]).reshape(3, 3),\n",
    "    \"back\": np.array([\"r\", \"r\", \"r\", \"r\", \"r\", \"r\", \"r\", \"r\", \"r\"]).reshape(3, 3),\n",
    "    \"top\": np.array([\"r\", \"r\", \"r\", \"r\", \"r\", \"r\", \"r\", \"r\", \"r\"]).reshape(3, 3),\n",
    "    \"right\": np.array([\"r\", \"r\", \"r\", \"r\", \"r\", \"r\", \"r\", \"r\", \"r\"]).reshape(3, 3),\n",
    "    \"left\": np.array([\"r\", \"r\", \"r\", \"r\", \"r\", \"r\", \"r\", \"r\", \"r\"]).reshape(3, 3),\n",
    "    \"bottom\": np.array([\"r\", \"r\", \"r\", \"r\", \"r\", \"r\", \"r\", \"r\", \"r\"]).reshape(3, 3)\n",
    "\n",
    "}\n",
    "\n",
    "for i in cube_dict.values():\n",
    "\n",
    "    print(i)"
   ]
  },
  {
   "cell_type": "code",
   "execution_count": null,
   "metadata": {},
   "outputs": [
    {
     "data": {
      "text/plain": [
       "['b',\n",
       " 'y',\n",
       " 'r',\n",
       " 'o',\n",
       " 'y',\n",
       " 'w',\n",
       " 'w',\n",
       " 'g',\n",
       " 'g',\n",
       " 'r',\n",
       " 'g',\n",
       " 'y',\n",
       " 'r',\n",
       " 'w',\n",
       " 'o',\n",
       " 'g',\n",
       " 'o',\n",
       " 'w',\n",
       " 'o',\n",
       " 'r',\n",
       " 'r',\n",
       " 'y',\n",
       " 'w',\n",
       " 'b',\n",
       " 'o',\n",
       " 'g',\n",
       " 'y',\n",
       " 'o',\n",
       " 'r',\n",
       " 'w',\n",
       " 'o',\n",
       " 'y',\n",
       " 'y',\n",
       " 'g',\n",
       " 'r',\n",
       " 'w',\n",
       " 'y',\n",
       " 'r',\n",
       " 'b',\n",
       " 'g',\n",
       " 'b',\n",
       " 'w',\n",
       " 'g',\n",
       " 'b',\n",
       " 'b',\n",
       " 'b',\n",
       " 'o',\n",
       " 'w',\n",
       " 'o',\n",
       " 'b',\n",
       " 'r',\n",
       " 'y',\n",
       " 'g',\n",
       " 'b']"
      ]
     },
     "execution_count": 13,
     "metadata": {},
     "output_type": "execute_result"
    }
   ],
   "source": [
    "import random\n",
    "\n",
    "color_dict = {\n",
    "\n",
    "    \"r\": 1,\n",
    "    \"g\": 2,\n",
    "    \"b\": 3,\n",
    "    \"y\": 4,\n",
    "    \"o\": 5,\n",
    "    \"w\": 6\n",
    "}\n",
    "\n",
    "cube_list = []\n",
    "\n",
    "for i in color_dict:\n",
    "\n",
    "    for _ in range(9):\n",
    "\n",
    "        cube_list.append(i)\n",
    "\n",
    "np.random.shuffle(cube_list)\n",
    "\n",
    "\n",
    "cube_list"
   ]
  },
  {
   "cell_type": "code",
   "execution_count": null,
   "metadata": {},
   "outputs": [],
   "source": [
    "side_list = [\"front\", \"back\", \"top\", \"right\", \"left\", \"bottom\"]\n",
    "cube_dict = {}\n",
    "num_cubes = int(len(cube_list) / len(side_list))\n",
    "\n",
    "for x, i in enumerate(side_list):\n",
    "\n",
    "    cube_dict[i] = np.array(cube_list[(x * num_cubes):(num_cubes * (x + 1))]).reshape(3, 3)\n",
    "    \n",
    "\n"
   ]
  },
  {
   "cell_type": "code",
   "execution_count": null,
   "metadata": {},
   "outputs": [
    {
     "name": "stdout",
     "output_type": "stream",
     "text": [
      "[['y' 'o' 'r']\n",
      " ['w' 'w' 'w']\n",
      " ['w' 'r' 'r']]\n"
     ]
    }
   ],
   "source": [
    "print(cube_dict[\"top\"])"
   ]
  },
  {
   "cell_type": "code",
   "execution_count": null,
   "metadata": {},
   "outputs": [
    {
     "name": "stdout",
     "output_type": "stream",
     "text": [
      "[['o' 'w' 'y']\n",
      " ['o' 'g' 'y']\n",
      " ['w' 'b' 'r']]\n",
      "[['o' 'g' 'o']\n",
      " ['o' 'w' 'y']\n",
      " ['w' 'y' 'r']]\n"
     ]
    }
   ],
   "source": []
  },
  {
   "cell_type": "code",
   "execution_count": null,
   "metadata": {},
   "outputs": [
    {
     "name": "stdout",
     "output_type": "stream",
     "text": [
      "from: [['b' 'y' 'r']\n",
      " ['o' 'y' 'w']\n",
      " ['w' 'g' 'g']]\n",
      "To: [['b' 'r' 'r']\n",
      " ['o' 'w' 'b']\n",
      " ['w' 'g' 'y']]\n",
      "after: [['b' 'r' 'r']\n",
      " ['o' 'w' 'b']\n",
      " ['w' 'g' 'y']]\n",
      "from: [['b' 'r' 'r']\n",
      " ['o' 'w' 'b']\n",
      " ['w' 'g' 'y']]\n",
      "To: [['b' 'g' 'y']\n",
      " ['o' 'w' 'o']\n",
      " ['w' 'o' 'w']]\n",
      "after: [['b' 'g' 'y']\n",
      " ['o' 'w' 'o']\n",
      " ['w' 'o' 'w']]\n",
      "from: [['b' 'g' 'y']\n",
      " ['o' 'w' 'o']\n",
      " ['w' 'o' 'w']]\n",
      "To: [['b' 'o' 'w']\n",
      " ['o' 'b' 'r']\n",
      " ['w' 'g' 'b']]\n",
      "after: [['b' 'o' 'w']\n",
      " ['o' 'b' 'r']\n",
      " ['w' 'g' 'b']]\n",
      "from: [['b' 'o' 'w']\n",
      " ['o' 'b' 'r']\n",
      " ['w' 'g' 'b']]\n",
      "To: [['b' 'y' 'r']\n",
      " ['o' 'y' 'w']\n",
      " ['w' 'g' 'g']]\n",
      "after: [['b' 'y' 'r']\n",
      " ['o' 'y' 'w']\n",
      " ['w' 'g' 'g']]\n"
     ]
    }
   ],
   "source": [
    "new_cube = cube_dict\n",
    "\n",
    "rules_up = [[\"front\", \"top\"], [\"top\", \"back\"], [\"back\", \"bottom\"], [\"bottom\", \"front\"]]\n",
    "\n",
    "for i in rules_up:\n",
    "\n",
    "    print(f\"from: {new_cube[i[0]]}\")\n",
    "    print(f\"To: {cube_dict[i[1]]}\")\n",
    "\n",
    "    new_cube[i[1]] = cube_dict[i[1]].T\n",
    "    \n",
    "    cube_vector = cube_dict[i[0]].T\n",
    "\n",
    "    new_cube[i[1]][0] = cube_vector[0]\n",
    "    \n",
    "    new_cube[i[1]] = new_cube[i[1]].T\n",
    "\n",
    "    print(f\"after: {new_cube[i[1]]}\")\n",
    "\n",
    "    \n",
    "\n"
   ]
  },
  {
   "cell_type": "code",
   "execution_count": null,
   "metadata": {},
   "outputs": [
    {
     "name": "stdout",
     "output_type": "stream",
     "text": [
      "{'front': array([['y', 'g', 'y'],\n",
      "       ['r', 'o', 'g'],\n",
      "       ['g', 'o', 'b']], dtype='<U1'), 'back': array([['y', 'g', 'b'],\n",
      "       ['r', 'r', 'y'],\n",
      "       ['w', 'o', 'w']], dtype='<U1'), 'top': array([['y', 'r', 'w'],\n",
      "       ['g', 'o', 'o'],\n",
      "       ['y', 'w', 'r']], dtype='<U1'), 'right': array([['w', 'o', 'w'],\n",
      "       ['b', 'r', 'g'],\n",
      "       ['g', 'r', 'b']], dtype='<U1'), 'left': array([['g', 'o', 'b'],\n",
      "       ['r', 'o', 'b'],\n",
      "       ['g', 'w', 'y']], dtype='<U1'), 'bottom': array([['y', 'r', 'g'],\n",
      "       ['g', 'y', 'o'],\n",
      "       ['b', 'y', 'y']], dtype='<U1')}\n",
      "{'front': array([['y', 'g', 'y'],\n",
      "       ['r', 'o', 'g'],\n",
      "       ['g', 'o', 'b']], dtype='<U1'), 'back': array([['y', 'g', 'b'],\n",
      "       ['r', 'r', 'y'],\n",
      "       ['w', 'o', 'w']], dtype='<U1'), 'top': array([['y', 'r', 'w'],\n",
      "       ['g', 'o', 'o'],\n",
      "       ['y', 'w', 'r']], dtype='<U1'), 'right': array([['w', 'o', 'w'],\n",
      "       ['b', 'r', 'g'],\n",
      "       ['g', 'r', 'b']], dtype='<U1'), 'left': array([['g', 'o', 'b'],\n",
      "       ['r', 'o', 'b'],\n",
      "       ['g', 'w', 'y']], dtype='<U1'), 'bottom': array([['y', 'r', 'g'],\n",
      "       ['g', 'y', 'o'],\n",
      "       ['b', 'y', 'y']], dtype='<U1')}\n"
     ]
    }
   ],
   "source": [
    "print(cube_dict)\n",
    "\n",
    "print(new_cube)"
   ]
  },
  {
   "cell_type": "code",
   "execution_count": null,
   "metadata": {},
   "outputs": [
    {
     "name": "stdout",
     "output_type": "stream",
     "text": [
      "[['b' 'w' 'g']\n",
      " ['y' 'w' 'y']\n",
      " ['o' 'y' 'b']]\n",
      "[['b' 'o' 'r']\n",
      " ['y' 'w' 'w']\n",
      " ['o' 'r' 'r']]\n"
     ]
    }
   ],
   "source": [
    "cube_dict[\"front\"] = cube_dict[\"front\"].T\n",
    "cube_dict[\"top\"] = cube_dict[\"top\"].T\n",
    "\n",
    "cube_dict[\"top\"][0] = cube_dict[\"front\"][0]\n",
    "\n",
    "cube_dict[\"front\"] = cube_dict[\"front\"].T\n",
    "cube_dict[\"top\"] = cube_dict[\"top\"].T\n",
    "\n",
    "print(cube_dict[\"front\"])\n",
    "print(cube_dict[\"top\"])"
   ]
  },
  {
   "cell_type": "code",
   "execution_count": 14,
   "metadata": {},
   "outputs": [
    {
     "data": {
      "text/plain": [
       "(array([[1, 2, 3],\n",
       "        [4, 5, 6],\n",
       "        [7, 8, 9]]),\n",
       " array([[3, 6, 9],\n",
       "        [2, 5, 8],\n",
       "        [1, 4, 7]]))"
      ]
     },
     "execution_count": 14,
     "metadata": {},
     "output_type": "execute_result"
    }
   ],
   "source": [
    "\n",
    "test_vector = np.array([1, 2, 3, 4, 5, 6, 7, 8, 9]).reshape(3, 3)\n",
    "test_after =  np.rot90(test_vector, k=1, axes=(0, 1))\n",
    "test_vector, test_after"
   ]
  },
  {
   "cell_type": "code",
   "execution_count": null,
   "metadata": {},
   "outputs": [
    {
     "data": {
      "text/plain": [
       "{'front': array([[1, 2, 3],\n",
       "        [4, 5, 6],\n",
       "        [7, 8, 9]]),\n",
       " 'back': array([[ 1, 20, 30],\n",
       "        [ 4, 50, 60],\n",
       "        [ 7, 80, 90]])}"
      ]
     },
     "execution_count": 10,
     "metadata": {},
     "output_type": "execute_result"
    }
   ],
   "source": [
    "\n",
    "\n",
    "test_dict = {\"front\": np.array([1, 2, 3, 4, 5, 6, 7, 8, 9]).reshape(3, 3), \"back\": np.array([10, 20, 30, 40, 50, 60, 70, 80, 90]).reshape(3, 3)}\n",
    "\n",
    "new_dict = {}\n",
    "\n",
    "new = test_dict[\"back\"].T\n",
    "new[0] = test_dict[\"front\"].T[0]\n",
    "\n",
    "#new_dict[\"back\"] = new.T\n",
    "\n",
    "new = test_dict[\"front\"].T\n",
    "new[0] = test_dict[\"back\"].T[0]\n",
    "\n",
    "new_dict[\"front\"] = new.T\n",
    "\n",
    "test_dict"
   ]
  },
  {
   "cell_type": "code",
   "execution_count": null,
   "metadata": {},
   "outputs": [
    {
     "data": {
      "text/plain": [
       "array([1, 4, 7])"
      ]
     },
     "execution_count": 21,
     "metadata": {},
     "output_type": "execute_result"
    }
   ],
   "source": [
    "a = test_dict[\"front\"].T\n",
    "a[0]"
   ]
  },
  {
   "cell_type": "code",
   "execution_count": null,
   "metadata": {},
   "outputs": [
    {
     "data": {
      "text/plain": [
       "array([[100,   4,   7],\n",
       "       [ 99,   5,   8],\n",
       "       [  3,   6,   9]])"
      ]
     },
     "execution_count": 21,
     "metadata": {},
     "output_type": "execute_result"
    }
   ],
   "source": [
    "test_dict[\"front\"].T"
   ]
  },
  {
   "cell_type": "code",
   "execution_count": null,
   "metadata": {},
   "outputs": [
    {
     "data": {
      "text/plain": [
       "{'front': array([[1, 2, 3],\n",
       "        [4, 5, 6],\n",
       "        [7, 8, 9]]),\n",
       " 'back': array([[ 1, 20, 30],\n",
       "        [ 4, 50, 60],\n",
       "        [ 7, 80, 90]])}"
      ]
     },
     "execution_count": 11,
     "metadata": {},
     "output_type": "execute_result"
    }
   ],
   "source": [
    "test_dict"
   ]
  },
  {
   "cell_type": "code",
   "execution_count": null,
   "metadata": {},
   "outputs": [],
   "source": []
  },
  {
   "cell_type": "code",
   "execution_count": null,
   "metadata": {},
   "outputs": [],
   "source": [
    "test_dict = {\"front\": np.array([1, 2, 3, 4, 5, 6, 7, 8, 9]).reshape(3, 3), \"back\": np.array([10, 20, 30, 40, 50, 60, 70, 80, 90]).reshape(3, 3)}"
   ]
  },
  {
   "cell_type": "code",
   "execution_count": null,
   "metadata": {},
   "outputs": [
    {
     "data": {
      "text/plain": [
       "{'front': array([[1, 2, 3],\n",
       "        [4, 5, 6],\n",
       "        [7, 8, 9]]),\n",
       " 'back': array([[10, 20, 30],\n",
       "        [40, 50, 60],\n",
       "        [70, 80, 90]])}"
      ]
     },
     "execution_count": 21,
     "metadata": {},
     "output_type": "execute_result"
    }
   ],
   "source": [
    "test_dict"
   ]
  },
  {
   "cell_type": "code",
   "execution_count": null,
   "metadata": {},
   "outputs": [
    {
     "name": "stdout",
     "output_type": "stream",
     "text": [
      "80\n"
     ]
    }
   ],
   "source": [
    "a = test_dict[\"front\"].T[0]\n",
    "b = test_dict[\"back\"].T[1]\n",
    "print(b)\n",
    "#new = np.append(a, b).reshape(3, 3).T\n",
    "\n",
    "#new"
   ]
  },
  {
   "cell_type": "code",
   "execution_count": null,
   "metadata": {},
   "outputs": [
    {
     "data": {
      "text/plain": [
       "{'front': array([[1, 2, 3],\n",
       "        [4, 5, 6],\n",
       "        [7, 8, 9]]),\n",
       " 'back': array([[10, 20, 30],\n",
       "        [40, 50, 60],\n",
       "        [70, 80, 90]])}"
      ]
     },
     "execution_count": 25,
     "metadata": {},
     "output_type": "execute_result"
    }
   ],
   "source": [
    "test_dict"
   ]
  },
  {
   "cell_type": "code",
   "execution_count": null,
   "metadata": {},
   "outputs": [
    {
     "data": {
      "text/plain": [
       "range(0, 3)"
      ]
     },
     "execution_count": 36,
     "metadata": {},
     "output_type": "execute_result"
    }
   ],
   "source": [
    "n = range(0, len(test_dict[\"front\"][0]))\n",
    "\n",
    "n"
   ]
  },
  {
   "cell_type": "code",
   "execution_count": null,
   "metadata": {},
   "outputs": [
    {
     "data": {
      "text/plain": [
       "[0, 2]"
      ]
     },
     "execution_count": 40,
     "metadata": {},
     "output_type": "execute_result"
    }
   ],
   "source": [
    "m = list(n)\n",
    "m.remove(1)\n",
    "m"
   ]
  },
  {
   "cell_type": "code",
   "execution_count": null,
   "metadata": {},
   "outputs": [],
   "source": [
    "d = {1: [1, 2, 3], 3: [1, 2, 3], 2: [1, 2, 3]}\n",
    "\n"
   ]
  },
  {
   "cell_type": "code",
   "execution_count": null,
   "metadata": {},
   "outputs": [
    {
     "data": {
      "text/plain": [
       "array('hej', dtype='<U3')"
      ]
     },
     "execution_count": 43,
     "metadata": {},
     "output_type": "execute_result"
    }
   ],
   "source": [
    "s = np.array(d[1])\n",
    "s"
   ]
  },
  {
   "cell_type": "code",
   "execution_count": null,
   "metadata": {},
   "outputs": [
    {
     "data": {
      "text/plain": [
       "array([[1, 1, 1],\n",
       "       [2, 2, 2],\n",
       "       [3, 3, 3]])"
      ]
     },
     "execution_count": 49,
     "metadata": {},
     "output_type": "execute_result"
    }
   ],
   "source": [
    "s = np.array([d[z] for z in range(1, len(d) + 1)]).reshape(3, 3).T\n",
    "s"
   ]
  },
  {
   "cell_type": "code",
   "execution_count": null,
   "metadata": {},
   "outputs": [],
   "source": []
  }
 ],
 "metadata": {
  "kernelspec": {
   "display_name": "Rubiks-Cube-Solver-ZHC7-3M5",
   "language": "python",
   "name": "python3"
  },
  "language_info": {
   "codemirror_mode": {
    "name": "ipython",
    "version": 3
   },
   "file_extension": ".py",
   "mimetype": "text/x-python",
   "name": "python",
   "nbconvert_exporter": "python",
   "pygments_lexer": "ipython3",
   "version": "3.11.1"
  },
  "orig_nbformat": 4,
  "vscode": {
   "interpreter": {
    "hash": "334ac62eec3dda1bbd5dd87140bda39ec59ffa0c53d3dbb7f9d6f42473fe2b24"
   }
  }
 },
 "nbformat": 4,
 "nbformat_minor": 2
}
