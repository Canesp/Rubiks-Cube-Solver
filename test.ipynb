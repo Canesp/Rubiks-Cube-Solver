{
 "cells": [
  {
   "cell_type": "code",
   "execution_count": 7,
   "metadata": {},
   "outputs": [
    {
     "data": {
      "text/plain": [
       "['r',\n",
       " 'g',\n",
       " 'b',\n",
       " 'y',\n",
       " 'w',\n",
       " 'o',\n",
       " 'r',\n",
       " 'g',\n",
       " 'b',\n",
       " 'y',\n",
       " 'w',\n",
       " 'o',\n",
       " 'r',\n",
       " 'g',\n",
       " 'b',\n",
       " 'y',\n",
       " 'w',\n",
       " 'o',\n",
       " 'r',\n",
       " 'g',\n",
       " 'b',\n",
       " 'y',\n",
       " 'w',\n",
       " 'o',\n",
       " 'r',\n",
       " 'g',\n",
       " 'b',\n",
       " 'y',\n",
       " 'w',\n",
       " 'o',\n",
       " 'r',\n",
       " 'g',\n",
       " 'b',\n",
       " 'y',\n",
       " 'w',\n",
       " 'o',\n",
       " 'r',\n",
       " 'g',\n",
       " 'b',\n",
       " 'y',\n",
       " 'w',\n",
       " 'o',\n",
       " 'r',\n",
       " 'g',\n",
       " 'b',\n",
       " 'y',\n",
       " 'w',\n",
       " 'o',\n",
       " 'r',\n",
       " 'g',\n",
       " 'b',\n",
       " 'y',\n",
       " 'w',\n",
       " 'o']"
      ]
     },
     "execution_count": 7,
     "metadata": {},
     "output_type": "execute_result"
    }
   ],
   "source": [
    "import numpy as np\n",
    "\n",
    "colors = [\"r\", \"g\", \"b\", \"y\", \"w\", \"o\"]\n",
    "color_list = []\n",
    "for _ in range(9):\n",
    "    for i in colors:\n",
    "        color_list.append(i)\n",
    "\n",
    "a = np.matrix([[1, 1, 1], [2, 2, 2], [3, 3, 3]])\n",
    "\n",
    "color_list\n",
    "\n"
   ]
  },
  {
   "cell_type": "code",
   "execution_count": 8,
   "metadata": {},
   "outputs": [
    {
     "data": {
      "text/plain": [
       "54"
      ]
     },
     "execution_count": 8,
     "metadata": {},
     "output_type": "execute_result"
    }
   ],
   "source": [
    "len(color_list)"
   ]
  },
  {
   "cell_type": "code",
   "execution_count": 9,
   "metadata": {},
   "outputs": [
    {
     "data": {
      "text/plain": [
       "array([[1, 4, 7],\n",
       "       [2, 5, 8],\n",
       "       [3, 6, 9]])"
      ]
     },
     "execution_count": 9,
     "metadata": {},
     "output_type": "execute_result"
    }
   ],
   "source": [
    "li = np.array([1, 2, 3, 4, 5, 6, 7, 8, 9])\n",
    "li = li.reshape(3, 3)\n",
    "\n",
    "li.T"
   ]
  },
  {
   "cell_type": "code",
   "execution_count": 10,
   "metadata": {},
   "outputs": [
    {
     "data": {
      "text/plain": [
       "array([['r', 'r', 'r'],\n",
       "       ['r', 'r', 'r'],\n",
       "       ['r', 'r', 'r']], dtype='<U1')"
      ]
     },
     "execution_count": 10,
     "metadata": {},
     "output_type": "execute_result"
    }
   ],
   "source": [
    "front = np.array([\"r\", \"r\", \"r\", \"r\", \"r\", \"r\", \"r\", \"r\", \"r\"]).reshape(3, 3)\n",
    "front"
   ]
  },
  {
   "cell_type": "code",
   "execution_count": 11,
   "metadata": {},
   "outputs": [
    {
     "data": {
      "text/plain": [
       "6"
      ]
     },
     "execution_count": 11,
     "metadata": {},
     "output_type": "execute_result"
    }
   ],
   "source": [
    "cube_dict = {\n",
    "\n",
    "    \"front\": np.array([\"r\", \"r\", \"r\", \"r\", \"r\", \"r\", \"r\", \"r\", \"r\"]).reshape(3, 3),\n",
    "    \"back\": np.array([\"r\", \"r\", \"r\", \"r\", \"r\", \"r\", \"r\", \"r\", \"r\"]).reshape(3, 3),\n",
    "    \"top\": np.array([\"r\", \"r\", \"r\", \"r\", \"r\", \"r\", \"r\", \"r\", \"r\"]).reshape(3, 3),\n",
    "    \"right\": np.array([\"r\", \"r\", \"r\", \"r\", \"r\", \"r\", \"r\", \"r\", \"r\"]).reshape(3, 3),\n",
    "    \"left\": np.array([\"r\", \"r\", \"r\", \"r\", \"r\", \"r\", \"r\", \"r\", \"r\"]).reshape(3, 3),\n",
    "    \"bottom\": np.array([\"r\", \"r\", \"r\", \"r\", \"r\", \"r\", \"r\", \"r\", \"r\"]).reshape(3, 3)\n",
    "\n",
    "}\n",
    "\n",
    "len(cube_dict)"
   ]
  },
  {
   "cell_type": "code",
   "execution_count": 12,
   "metadata": {},
   "outputs": [
    {
     "name": "stdout",
     "output_type": "stream",
     "text": [
      "3\n",
      "3\n",
      "3\n",
      "3\n",
      "3\n",
      "3\n"
     ]
    }
   ],
   "source": [
    "for i in cube_dict:\n",
    "    print(len(cube_dict[i]))"
   ]
  },
  {
   "cell_type": "code",
   "execution_count": 13,
   "metadata": {},
   "outputs": [
    {
     "name": "stdout",
     "output_type": "stream",
     "text": [
      "['r' 'r' 'r']\n",
      "['r' 'r' 'r']\n",
      "['r' 'r' 'r']\n",
      "['r' 'r' 'r']\n",
      "['r' 'r' 'r']\n",
      "['r' 'r' 'r']\n",
      "['r' 'r' 'r']\n",
      "['r' 'r' 'r']\n",
      "['r' 'r' 'r']\n",
      "['r' 'r' 'r']\n",
      "['r' 'r' 'r']\n",
      "['r' 'r' 'r']\n",
      "['r' 'r' 'r']\n",
      "['r' 'r' 'r']\n",
      "['r' 'r' 'r']\n",
      "['r' 'r' 'r']\n",
      "['r' 'r' 'r']\n",
      "['r' 'r' 'r']\n"
     ]
    }
   ],
   "source": [
    "for i in cube_dict:\n",
    "\n",
    "    for x in cube_dict[i]:\n",
    "        print(x)"
   ]
  },
  {
   "cell_type": "code",
   "execution_count": 14,
   "metadata": {},
   "outputs": [
    {
     "ename": "TypeError",
     "evalue": "test() got multiple values for argument 'a'",
     "output_type": "error",
     "traceback": [
      "\u001b[1;31m---------------------------------------------------------------------------\u001b[0m",
      "\u001b[1;31mTypeError\u001b[0m                                 Traceback (most recent call last)",
      "Cell \u001b[1;32mIn[14], line 7\u001b[0m\n\u001b[0;32m      3\u001b[0m     \u001b[39mprint\u001b[39m(a)\n\u001b[0;32m      4\u001b[0m     \u001b[39mprint\u001b[39m(b)\n\u001b[1;32m----> 7\u001b[0m test(\u001b[39m1\u001b[39;49m, a\u001b[39m=\u001b[39;49m(\u001b[39m1\u001b[39;49m, \u001b[39m2\u001b[39;49m))\n",
      "\u001b[1;31mTypeError\u001b[0m: test() got multiple values for argument 'a'"
     ]
    }
   ],
   "source": [
    "def test (a: tuple, b: int):\n",
    "\n",
    "    print(a)\n",
    "    print(b)\n",
    "\n",
    "\n",
    "test(1, a=(1, 2))"
   ]
  },
  {
   "cell_type": "code",
   "execution_count": 21,
   "metadata": {},
   "outputs": [
    {
     "name": "stdout",
     "output_type": "stream",
     "text": [
      "[['r' 'r' 'r']\n",
      " ['r' 'r' 'r']\n",
      " ['r' 'r' 'r']]\n",
      "[['r' 'r' 'r']\n",
      " ['r' 'r' 'r']\n",
      " ['r' 'r' 'r']]\n",
      "[['r' 'r' 'r']\n",
      " ['r' 'r' 'r']\n",
      " ['r' 'r' 'r']]\n",
      "[['r' 'r' 'r']\n",
      " ['r' 'r' 'r']\n",
      " ['r' 'r' 'r']]\n",
      "[['r' 'r' 'r']\n",
      " ['r' 'r' 'r']\n",
      " ['r' 'r' 'r']]\n",
      "[['r' 'r' 'r']\n",
      " ['r' 'r' 'r']\n",
      " ['r' 'r' 'r']]\n"
     ]
    }
   ],
   "source": [
    "import numpy as np\n",
    "\n",
    "cube_dict = {\n",
    "\n",
    "    \"front\": np.array([\"r\", \"r\", \"r\", \"r\", \"r\", \"r\", \"r\", \"r\", \"r\"]).reshape(3, 3),\n",
    "    \"back\": np.array([\"r\", \"r\", \"r\", \"r\", \"r\", \"r\", \"r\", \"r\", \"r\"]).reshape(3, 3),\n",
    "    \"top\": np.array([\"r\", \"r\", \"r\", \"r\", \"r\", \"r\", \"r\", \"r\", \"r\"]).reshape(3, 3),\n",
    "    \"right\": np.array([\"r\", \"r\", \"r\", \"r\", \"r\", \"r\", \"r\", \"r\", \"r\"]).reshape(3, 3),\n",
    "    \"left\": np.array([\"r\", \"r\", \"r\", \"r\", \"r\", \"r\", \"r\", \"r\", \"r\"]).reshape(3, 3),\n",
    "    \"bottom\": np.array([\"r\", \"r\", \"r\", \"r\", \"r\", \"r\", \"r\", \"r\", \"r\"]).reshape(3, 3)\n",
    "\n",
    "}\n",
    "\n",
    "for i in cube_dict.values():\n",
    "\n",
    "    print(i)"
   ]
  },
  {
   "cell_type": "code",
   "execution_count": null,
   "metadata": {},
   "outputs": [],
   "source": []
  }
 ],
 "metadata": {
  "kernelspec": {
   "display_name": "Rubiks-Cube-Solver-ZHC7-3M5",
   "language": "python",
   "name": "python3"
  },
  "language_info": {
   "codemirror_mode": {
    "name": "ipython",
    "version": 3
   },
   "file_extension": ".py",
   "mimetype": "text/x-python",
   "name": "python",
   "nbconvert_exporter": "python",
   "pygments_lexer": "ipython3",
   "version": "3.11.1"
  },
  "orig_nbformat": 4,
  "vscode": {
   "interpreter": {
    "hash": "334ac62eec3dda1bbd5dd87140bda39ec59ffa0c53d3dbb7f9d6f42473fe2b24"
   }
  }
 },
 "nbformat": 4,
 "nbformat_minor": 2
}
